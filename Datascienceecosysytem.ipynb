{
 "cells": [
  {
   "cell_type": "markdown",
   "id": "e397c2c5-6b20-4a69-b89f-e1df5406dc12",
   "metadata": {},
   "source": [
    "Data Science Tools and Ecosystem"
   ]
  },
  {
   "cell_type": "markdown",
   "id": "a8c89934-29c5-407f-961f-7cc9ed1e10cc",
   "metadata": {},
   "source": [
    "In this notebook, Data Science Tools and Ecosystems are described"
   ]
  },
  {
   "cell_type": "markdown",
   "id": "71380a2f-814f-4c0a-af55-cd6eb8e1f13f",
   "metadata": {},
   "source": [
    "Some of the popular languages data scientists use are\n",
    "1. Python\n",
    "2. R \n",
    "3. Github"
   ]
  },
  {
   "cell_type": "markdown",
   "id": "780db313-2dc6-48d1-98b9-effc8704480c",
   "metadata": {},
   "source": [
    "Some of the commonly used libraries by data scientists are\n",
    "1. Pandas\n",
    "2. Numpy\n",
    "3. Pytorch"
   ]
  },
  {
   "cell_type": "markdown",
   "id": "416b11f6-54d2-4395-a4c0-1304e2393478",
   "metadata": {
    "tags": []
   },
   "source": [
    "Data Science Tools\n",
    "-------------------\n",
    "Jupiter Notebook\n",
    "-------------------\n",
    "Spyder\n",
    "-------------------"
   ]
  },
  {
   "cell_type": "markdown",
   "id": "502fc289-7d85-41e6-a4a0-a903f8b05a31",
   "metadata": {},
   "source": [
    "Below are some examples of arithematic calcualtions"
   ]
  },
  {
   "cell_type": "code",
   "execution_count": 1,
   "id": "e0952a79-db83-4fda-b75c-534a12f8d347",
   "metadata": {
    "tags": []
   },
   "outputs": [
    {
     "data": {
      "text/plain": [
       "17"
      ]
     },
     "execution_count": 1,
     "metadata": {},
     "output_type": "execute_result"
    }
   ],
   "source": [
    "(3*4)+5"
   ]
  },
  {
   "cell_type": "code",
   "execution_count": 2,
   "id": "7bf5ceca-74e8-43b7-a93a-6507cb65aa0d",
   "metadata": {
    "tags": []
   },
   "outputs": [
    {
     "data": {
      "text/plain": [
       "3.3333333333333335"
      ]
     },
     "execution_count": 2,
     "metadata": {},
     "output_type": "execute_result"
    }
   ],
   "source": [
    "200/60"
   ]
  },
  {
   "cell_type": "markdown",
   "id": "13090dcf-6a2a-458b-ad85-dc75cfa5bf8b",
   "metadata": {},
   "source": [
    "Objectives\n",
    "1. The objective of the data scientist is to explore, sort and analyze megadata from various sources in order to take advantage of them and reach conclusions to optimize business processes or for decision support."
   ]
  },
  {
   "cell_type": "markdown",
   "id": "2715c6ca-02bf-472a-bc46-e5c791132eea",
   "metadata": {},
   "source": [
    "Authors Sivasankari"
   ]
  },
  {
   "cell_type": "code",
   "execution_count": null,
   "id": "6e905597-9fe6-43b0-a23a-f798ef98a929",
   "metadata": {},
   "outputs": [],
   "source": []
  }
 ],
 "metadata": {
  "kernelspec": {
   "display_name": "Python",
   "language": "python",
   "name": "conda-env-python-py"
  },
  "language_info": {
   "codemirror_mode": {
    "name": "ipython",
    "version": 3
   },
   "file_extension": ".py",
   "mimetype": "text/x-python",
   "name": "python",
   "nbconvert_exporter": "python",
   "pygments_lexer": "ipython3",
   "version": "3.7.12"
  }
 },
 "nbformat": 4,
 "nbformat_minor": 5
}
